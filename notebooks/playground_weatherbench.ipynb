{
 "cells": [
  {
   "cell_type": "markdown",
   "metadata": {},
   "source": [
    "# load data"
   ]
  },
  {
   "cell_type": "code",
   "execution_count": null,
   "metadata": {},
   "outputs": [],
   "source": [
    "pwd"
   ]
  },
  {
   "cell_type": "code",
   "execution_count": null,
   "metadata": {},
   "outputs": [],
   "source": [
    "%matplotlib inline\n",
    "from netCDF4 import Dataset\n",
    "import xarray as xr\n",
    "\n",
    "import numpy as np\n",
    "import matplotlib.pyplot as plt\n",
    "import seaborn\n",
    "seaborn.set_style('darkgrid')\n",
    "seaborn.set_context('notebook')\n",
    "\n",
    "from predictability_utils.utils import helpers, io\n",
    "from predictability_utils.methods.lrlin_method import run_lrlin\n",
    "from predictability_utils.methods.cca_method import run_cca\n",
    "\n",
    "import torch\n",
    "torch.manual_seed(42)\n",
    "if torch.cuda.is_available():\n",
    "    device = torch.device(\"cuda\")\n",
    "    torch.set_default_tensor_type(\"torch.cuda.FloatTensor\")\n",
    "else:\n",
    "    print(\"CUDA not available\")\n",
    "    device = torch.device(\"cpu\")\n",
    "    torch.set_default_tensor_type(\"torch.FloatTensor\")\n",
    "\n",
    "root_data = '/gpfs/work/nonnenma/data/forecast_predictability/weatherbench/5_625deg/'\n",
    "\n",
    "z500 = xr.open_mfdataset(f'{root_data}geopotential_500/*.nc', combine='by_coords').z\n",
    "_, nlat, nlon = z500.shape\n",
    "\n",
    "def create_training_data(data, lead_time_h, return_valid_time=False):\n",
    "    \"\"\"Function to split input and output by lead time.\"\"\"\n",
    "    X = data.isel(time=slice(0, -lead_time_h))\n",
    "    y = data.isel(time=slice(lead_time_h, None))\n",
    "    valid_time = y.time\n",
    "    if return_valid_time:\n",
    "        return X.values, y.values, valid_time\n",
    "    else:\n",
    "        return X.values, y.values\n",
    "\n",
    "z500"
   ]
  },
  {
   "cell_type": "code",
   "execution_count": null,
   "metadata": {},
   "outputs": [],
   "source": [
    "def load_test_data(path, var, years=slice('2017', '2018')):\n",
    "    \"\"\"\n",
    "    Args:\n",
    "        path: Path to nc files\n",
    "        var: variable. Geopotential = 'z', Temperature = 't'\n",
    "        years: slice for time window\n",
    "    Returns:\n",
    "        dataset: Concatenated dataset for 2017 and 2018\n",
    "    \"\"\"\n",
    "    assert var in ['z', 't'], 'Test data only for Z500 and T850'\n",
    "    ds = xr.open_mfdataset(f'{path}/*.nc', combine='by_coords')[var]\n",
    "    try:\n",
    "        ds = ds.sel(level=500 if var == 'z' else 850).drop('level')\n",
    "    except ValueError:\n",
    "        pass\n",
    "    return ds.sel(time=years)\n",
    "\n",
    "def compute_weighted_rmse(da_fc, da_true, mean_dims=xr.ALL_DIMS):\n",
    "    \"\"\"\n",
    "    Compute the RMSE with latitude weighting from two xr.DataArrays.\n",
    "    Args:\n",
    "        da_fc (xr.DataArray): Forecast. Time coordinate must be validation time.\n",
    "        da_true (xr.DataArray): Truth.\n",
    "    Returns:\n",
    "        rmse: Latitude weighted root mean squared error\n",
    "    \"\"\"\n",
    "    error = da_fc - da_true\n",
    "    weights_lat = np.cos(np.deg2rad(error.lat))\n",
    "    weights_lat /= weights_lat.mean()\n",
    "    rmse = np.sqrt(((error)**2 * weights_lat).mean(mean_dims))\n",
    "    if type(rmse) is xr.Dataset:\n",
    "        rmse = rmse.rename({v: v + '_rmse' for v in rmse})\n",
    "    else: # DataArray\n",
    "        rmse.name = error.name + '_rmse' if not error.name is None else 'rmse'\n",
    "    return rmse\n",
    "\n",
    "def evaluate_iterative_forecast(fc_iter, da_valid):\n",
    "    rmses = []\n",
    "    for lead_time in fc_iter.lead_time:\n",
    "        fc = fc_iter.sel(lead_time=lead_time)\n",
    "        fc['time'] = fc.time + np.timedelta64(int(lead_time), 'h')\n",
    "        rmses.append(compute_weighted_rmse(fc, da_valid))\n",
    "    return xr.concat(rmses, 'lead_time')\n",
    "    # return xr.DataArray(rmses, dims=['lead_time'], coords={'lead_time': fc_iter.lead_time})\n"
   ]
  },
  {
   "cell_type": "code",
   "execution_count": null,
   "metadata": {},
   "outputs": [],
   "source": [
    "lead_time = 3 * 24 # 3 days\n",
    "\n",
    "# Split into train and test data\n",
    "t_train = z500['time'].sel(time=slice('1979', '2016')).data.size - lead_time\n",
    "t_all = z500['time'].sel(time=slice('1979', '2018')).data.size - lead_time\n",
    "\n",
    "z500_data = z500.sel(time=slice('1979', '2018')) #z500.sel(time=slice('1979', '2016'))\n",
    "idx_source_train, idx_target_train = np.arange(t_train)[None,:], np.arange(t_train)[None,:]\n",
    "idx_source_test, idx_target_test = np.arange(t_train, t_all)[None,:], np.arange(t_train, t_all)[None,:]\n",
    "\n",
    "idcs = (idx_source_train, idx_target_train, idx_source_test, idx_target_test)\n",
    "\n",
    "n_latents = 5\n",
    "map_shape = (nlat, nlon)\n",
    "\n",
    "# Compute normalization statistics\n",
    "z500_mean = z500_data[idx_source_train.squeeze(),:,:].mean().values\n",
    "z500_std = z500_data[idx_source_train.squeeze(),:,:].std('time').mean().values\n",
    "\n",
    "# Normalize datasets\n",
    "data_z500 = (z500_data - z500_mean) / z500_std\n",
    "\n",
    "source_data, target_data = create_training_data(data_z500, lead_time_h=lead_time)"
   ]
  },
  {
   "cell_type": "code",
   "execution_count": null,
   "metadata": {},
   "outputs": [],
   "source": [
    "z500_data.shape"
   ]
  },
  {
   "cell_type": "markdown",
   "metadata": {},
   "source": [
    "# simple low-rank linear prediction (pixel MSEs) \n",
    "\n",
    "- set up simple model $Y = W X$ with $W = U V$\n",
    "- low-rank: if $Y \\in \\mathbb{R}^N, X \\in \\mathbb{R}^M$, then $W \\in \\mathbb{R}^{N \\times M}$, but $U \\in \\mathbb{R}^{N \\times k}, V \\in \\mathbb{R}^{k \\times M}$ with $k << M,N$ !\n",
    "- low-rank structure saves us parameters: $M N$ parameters in $W$, but only $N k + k M$ in $U$ and $V$, helps prevent overfitting on low samples size"
   ]
  },
  {
   "cell_type": "code",
   "execution_count": null,
   "metadata": {
    "scrolled": true
   },
   "outputs": [],
   "source": [
    "corrs_map, params = run_lrlin(source_data, target_data, n_latents, idcs, if_plot=True, map_shape=map_shape,\n",
    "                              n_epochs=5, lr=1e-1, batch_size=10)"
   ]
  },
  {
   "cell_type": "code",
   "execution_count": null,
   "metadata": {},
   "outputs": [],
   "source": [
    "T = source_data.shape[0]\n",
    "X = source_data.reshape(T, -1)[idx_source_test,:].mean(axis=0)\n",
    "Y = target_data.reshape(T, -1)[idx_target_test,:].mean(axis=0)\n",
    "Ypred = X.dot(params['V']).dot(params['U']) * z500_std + z500_mean\n",
    "\n",
    "z500_valid = load_test_data(f'{root_data}geopotential_500', 'z') #z500.sel(time=slice('2017', '2018'))\n",
    "\n",
    "compute_weighted_rmse(Ypred.reshape(-1, *map_shape), z500_valid).values"
   ]
  },
  {
   "cell_type": "code",
   "execution_count": null,
   "metadata": {},
   "outputs": [],
   "source": [
    "z500_std"
   ]
  },
  {
   "cell_type": "markdown",
   "metadata": {},
   "source": [
    "# debug"
   ]
  },
  {
   "cell_type": "code",
   "execution_count": null,
   "metadata": {},
   "outputs": [],
   "source": []
  }
 ],
 "metadata": {
  "kernelspec": {
   "display_name": "Python 3",
   "language": "python",
   "name": "python3"
  },
  "language_info": {
   "codemirror_mode": {
    "name": "ipython",
    "version": 3
   },
   "file_extension": ".py",
   "mimetype": "text/x-python",
   "name": "python",
   "nbconvert_exporter": "python",
   "pygments_lexer": "ipython3",
   "version": "3.7.4"
  }
 },
 "nbformat": 4,
 "nbformat_minor": 2
}
