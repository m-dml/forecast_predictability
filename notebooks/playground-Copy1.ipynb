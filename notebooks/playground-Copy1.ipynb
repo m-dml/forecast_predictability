{
 "cells": [
  {
   "cell_type": "markdown",
   "metadata": {},
   "source": [
    "# load data"
   ]
  },
  {
   "cell_type": "code",
   "execution_count": 1,
   "metadata": {},
   "outputs": [
    {
     "data": {
      "text/plain": [
       "'/mnt/lustre01/pf/g/g260086/Python/SeasonalPred/notebooks'"
      ]
     },
     "execution_count": 1,
     "metadata": {},
     "output_type": "execute_result"
    }
   ],
   "source": [
    "pwd"
   ]
  },
  {
   "cell_type": "code",
   "execution_count": 2,
   "metadata": {},
   "outputs": [],
   "source": [
    "#!pip install --user netCDF4\n",
    "#!pip install --user torch\n",
    "#!pip uninstall torch --yes"
   ]
  },
  {
   "cell_type": "code",
   "execution_count": null,
   "metadata": {},
   "outputs": [],
   "source": [
    "%matplotlib inline\n",
    "from netCDF4 import Dataset\n",
    "\n",
    "import numpy as np\n",
    "import matplotlib.pyplot as plt\n",
    "import seaborn\n",
    "\n",
    "from predictability_utils.utils import helpers, io\n",
    "from predictability_utils.methods.lrlin_method import run_lrlin\n",
    "from predictability_utils.methods.cca_method import run_cca\n",
    "\n",
    "import torch\n",
    "torch.manual_seed(42)\n",
    "if torch.cuda.is_available():\n",
    "    device = torch.device(\"cuda\")\n",
    "    torch.set_default_tensor_type(\"torch.cuda.FloatTensor\")\n",
    "else:\n",
    "    print(\"CUDA not available\")\n",
    "    device = torch.device(\"cpu\")\n",
    "    torch.set_default_tensor_type(\"torch.FloatTensor\")\n",
    "\n",
    "    \n",
    "#root_data = '/gpfs/work/nonnenma/data/forecast_predictability/pyrina/'\n",
    "root_data = '/work/gg0304/g260086/HZG-ML-work/Data'\n",
    "\n",
    "n_latents = 5\n",
    "train_months, test_months = [2,3,4], [5,6,7]\n",
    "y_train = 46\n",
    "y_test = 40\n",
    "\n",
    "# Volumetric soil water layer 1 (EU) ANOMALIES\n",
    "source_data, _ = io.data_load('swvl1', 'EU', 'anomalies', root_data)\n",
    "\n",
    "# Temperature at 2m (EU) ANOMALIES\n",
    "target_data, _ = io.data_load('t2m', 'EU', 'anomalies', root_data)\n",
    "\n",
    "# training data time stamps and map shape\n",
    "nc_fn = root_data + \"/t2m_ERA20c_monthly_1900-2010.EU.mv.nc\"\n",
    "ts_or = Dataset(nc_fn, 'r').variables['time'].__array__().data\n",
    "\n",
    "t2m_eu = Dataset(nc_fn, 'r').variables['t2m'].__array__().data\n",
    "map_shape = t2m_eu.shape[1:]"
   ]
  },
  {
   "cell_type": "markdown",
   "metadata": {},
   "source": [
    "# recreate CCA analysis\n",
    "- Canonical correlation analysis to identify subspaces $U$, $V$ in source space $X$ and target space $Y$, respectively, such that $(UX)_i$ and $(VY)_i$ are maximally correlated.\n",
    "- in a second step, establish a (linear) mapping from $VY \\approx Q UX$ to predict $VY$ from $UX$.\n",
    "- predict new $Y$ from $Y \\approx V^\\dagger Q UX$"
   ]
  },
  {
   "cell_type": "code",
   "execution_count": 63,
   "metadata": {},
   "outputs": [],
   "source": [
    "TAr = [ ]\n",
    "for i in range(25): #last train will cretae ts starting from 1924\n",
    "    t = 12 * i\n",
    "    TAr.append(t)\n",
    "    print(TAr)"
   ]
  },
  {
   "cell_type": "code",
   "execution_count": null,
   "metadata": {},
   "outputs": [],
   "source": [
    "Preds = [ ]\n",
    "for i,n in enumerate(TAr):\n",
    "    ts = ts_or[n:]\n",
    "    print(len(ts))\n",
    "    #print(ts)\n",
    "    idcs = helpers.split_train_data(ts, y_train, train_months, test_months)\n",
    "    idx_source_train, idx_target_train, idx_source_test, idx_target_test = idcs\n",
    "\n",
    "    # let's not miss a year\n",
    "    assert np.prod(idx_source_train.shape) + np.prod(idx_source_test.shape) == len(ts)/12 * len(train_months)\n",
    "    assert np.prod(idx_target_train.shape) + np.prod(idx_target_test.shape) == len(ts)/12 * len(test_months)\n",
    "    \n",
    "    #prediction using CCA\n",
    "    out_pred, params = run_cca(source_data, target_data, n_latents, idcs, if_plot=False, map_shape=map_shape)\n",
    "    Preds.append(out_pred)\n",
    "    print(len(Preds)); print(len(Preds[0])); print(len(Preds[24]));\n",
    "    \n",
    "m_pred = np.asarray(Preds).mean(axis=0)\n",
    "print(m_pred); print(m_pred.shape);"
   ]
  },
  {
   "cell_type": "code",
   "execution_count": null,
   "metadata": {},
   "outputs": [],
   "source": [
    "T = source_data.shape[0]\n",
    "out_true = target_data.reshape(T, -1)[idx_target_test,:].mean(axis=0)\n",
    "anomaly_corrs = helpers.compute_anomaly_corrs(out_true, m_pred)"
   ]
  },
  {
   "cell_type": "code",
   "execution_count": null,
   "metadata": {},
   "outputs": [],
   "source": []
  },
  {
   "cell_type": "markdown",
   "metadata": {},
   "source": [
    "- Plot: Canonical correlation analysis"
   ]
  },
  {
   "cell_type": "code",
   "execution_count": null,
   "metadata": {},
   "outputs": [],
   "source": [
    "ACC = anomaly_corrs.reshape(37,42)\n",
    "lat = Dataset(nc_fn, 'r').variables['latitude'].__array__().data\n",
    "lon = Dataset(nc_fn, 'r').variables['longitude'].__array__().data\n",
    "#[lons, lats] = np.meshgrid(lon,lat)"
   ]
  },
  {
   "cell_type": "code",
   "execution_count": null,
   "metadata": {
    "scrolled": true
   },
   "outputs": [],
   "source": [
    "#conda install -c anaconda basemap\n",
    "#conda install -c anaconda proj4 #it doesnt work with proj 6.?.\n",
    "import os\n",
    "os.environ ['PROJ_LIB'] = '/work/gg0304/g260086/anaconda3/share/proj'\n",
    "from mpl_toolkits.basemap import Basemap\n",
    "\n",
    "m = Basemap(projection='cyl', llcrnrlon=min(lon), llcrnrlat=min(lat),\n",
    "    urcrnrlon=max(lon), urcrnrlat=max(lat))\n",
    "clevs = np.linspace(-1, 1, 21)\n",
    "lons, lats = m(*np.meshgrid(lon, lat))\n",
    "h = m.contourf(lons, lats, ACC, clevs, cmap=plt.cm.RdBu_r) #RdBu_r\n",
    "#h = m.pcolormesh(lons, lats, ACC, shading='flat',latlon=True, cmap='jet', vmin=-cmax, vmax=cmax)\n",
    "m.drawcoastlines()\n",
    "# draw parallels and meridians.\n",
    "m.drawparallels(np.arange(35.,70.,10.),labels=[1,0,0,1], fontsize=14)\n",
    "m.drawmeridians(np.arange(0.,25.,10.),labels=[1,0,0,1], fontsize=14);\n",
    "m.drawmapboundary(fill_color='aqua')\n",
    "\n",
    "m.colorbar(h, location='bottom', size='8%', pad=\"15%\", label='[$r$]')\n",
    "plt.title('ACC CCA', fontsize=14)"
   ]
  },
  {
   "cell_type": "markdown",
   "metadata": {},
   "source": [
    "# simple low-rank linear prediction (pixel MSEs) \n",
    "\n",
    "- set up simple model $Y = W X$ with $W = U V$\n",
    "- low-rank: if $Y \\in \\mathbb{R}^N, X \\in \\mathbb{R}^M$, then $W \\in \\mathbb{R}^{N \\times M}$, but $U \\in \\mathbb{R}^{N \\times k}, V \\in \\mathbb{R}^{k \\times M}$ with $k << M,N$ !\n",
    "- low-rank structure saves us parameters: $M N$ parameters in $W$, but only $N k + k M$ in $U$ and $V$, helps prevent overfitting on low samples size"
   ]
  },
  {
   "cell_type": "code",
   "execution_count": null,
   "metadata": {},
   "outputs": [],
   "source": [
    "#To be fixed\n",
    "anomaly_corrs, params = run_lrlin(source_data, target_data, n_latents, idcs, if_plot=False, map_shape=map_shape,\n",
    "                                 n_epochs=2000, lr=1e-1, batch_size=None)"
   ]
  },
  {
   "cell_type": "code",
   "execution_count": null,
   "metadata": {},
   "outputs": [],
   "source": [
    "ACC = anomaly_corrs.reshape(37,42)\n",
    "lat = Dataset(nc_fn, 'r').variables['latitude'].__array__().data\n",
    "lon = Dataset(nc_fn, 'r').variables['longitude'].__array__().data\n",
    "#[lons, lats] = np.meshgrid(lon,lat)\n",
    "m = Basemap(projection='cyl', llcrnrlon=min(lon), llcrnrlat=min(lat),\n",
    "    urcrnrlon=max(lon), urcrnrlat=max(lat))\n",
    "clevs = np.linspace(-1, 1, 21)\n",
    "lons, lats = m(*np.meshgrid(lon, lat))\n",
    "h = m.contourf(lons, lats, ACC, clevs, cmap=plt.cm.RdBu_r)\n",
    "\n",
    "m.drawcoastlines()\n",
    "# draw parallels and meridians.\n",
    "m.drawparallels(np.arange(35.,70.,10.),labels=[1,0,0,1], fontsize=14)\n",
    "m.drawmeridians(np.arange(0.,25.,10.),labels=[1,0,0,1], fontsize=14);\n",
    "m.drawmapboundary(fill_color='aqua')\n",
    "\n",
    "m.colorbar(h, location='bottom', size='8%', pad=\"15%\", label='[$r$]')\n",
    "plt.title('ACC LR', fontsize=14)"
   ]
  },
  {
   "cell_type": "markdown",
   "metadata": {},
   "source": [
    "# debug"
   ]
  },
  {
   "cell_type": "code",
   "execution_count": null,
   "metadata": {},
   "outputs": [],
   "source": []
  }
 ],
 "metadata": {
  "kernelspec": {
   "display_name": "Python 3",
   "language": "python",
   "name": "python3"
  },
  "language_info": {
   "codemirror_mode": {
    "name": "ipython",
    "version": 3
   },
   "file_extension": ".py",
   "mimetype": "text/x-python",
   "name": "python",
   "nbconvert_exporter": "python",
   "pygments_lexer": "ipython3",
   "version": "3.7.6"
  }
 },
 "nbformat": 4,
 "nbformat_minor": 2
}
