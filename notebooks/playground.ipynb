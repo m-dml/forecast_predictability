{
 "cells": [
  {
   "cell_type": "markdown",
   "metadata": {},
   "source": [
    "# load data"
   ]
  },
  {
   "cell_type": "code",
   "execution_count": null,
   "metadata": {},
   "outputs": [],
   "source": [
    "pwd"
   ]
  },
  {
   "cell_type": "code",
   "execution_count": null,
   "metadata": {},
   "outputs": [],
   "source": [
    "%matplotlib inline\n",
    "from netCDF4 import Dataset\n",
    "\n",
    "import numpy as np\n",
    "import matplotlib.pyplot as plt\n",
    "import seaborn\n",
    "\n",
    "from predictability_utils.utils import helpers, io\n",
    "from predictability_utils.methods.lrlin_method import run_lrlin\n",
    "from predictability_utils.methods.cca_method import run_cca\n",
    "\n",
    "import torch\n",
    "torch.manual_seed(42)\n",
    "\n",
    "root_data = '../../data/pyrina'\n",
    "\n",
    "n_latents = 5\n",
    "train_months, test_months = [2,3,4], [5,6,7]\n",
    "y_train = 51\n",
    "\n",
    "# Volumetric soil water layer 1 (EU) ANOMALIES\n",
    "source_data, _ = io.data_load('swvl1', 'EU', 'anomalies', root_data)\n",
    "\n",
    "# Temperature at 2m (EU) ANOMALIES\n",
    "target_data, _ = io.data_load('t2m', 'EU', 'anomalies', root_data)\n",
    "\n",
    "# training data time stamps and map shape\n",
    "nc_fn = root_data + \"/t2m_ERA20c_monthly_1900-2010.EU.mv.nc\"\n",
    "ts = Dataset(nc_fn, 'r').variables['time'].__array__().data\n",
    "t2m_eu = Dataset(nc_fn, 'r').variables['t2m'].__array__().data\n",
    "map_shape = t2m_eu.shape[1:]\n",
    "\n",
    "idcs = helpers.split_train_data(ts, y_train, train_months, test_months)\n",
    "idx_source_train, idx_target_train, idx_source_test, idx_target_test = idcs\n",
    "\n",
    "# let's not miss a year\n",
    "assert np.prod(idx_source_train.shape) + np.prod(idx_source_test.shape) == len(ts)/12 * len(train_months)\n",
    "assert np.prod(idx_target_train.shape) + np.prod(idx_target_test.shape) == len(ts)/12 * len(test_months)"
   ]
  },
  {
   "cell_type": "markdown",
   "metadata": {},
   "source": [
    "# recreate CCA analysis\n",
    "- Canonical correlation analysis to identify subspaces $U$, $V$ in source space $X$ and target space $Y$, respectively, such that $(UX)_i$ and $(VY)_i$ are maximally correlated.\n",
    "- in a second step, establish a (linear) mapping from $VY \\approx Q UX$ to predict $VY$ from $UX$.\n",
    "- predict new $Y$ from $Y \\approx V^\\dagger Q UX$"
   ]
  },
  {
   "cell_type": "code",
   "execution_count": null,
   "metadata": {
    "scrolled": true
   },
   "outputs": [],
   "source": [
    "anomaly_corrs, params = run_cca(source_data, target_data, n_latents, idcs, if_plot=True, map_shape=map_shape)"
   ]
  },
  {
   "cell_type": "markdown",
   "metadata": {},
   "source": [
    "# simple low-rank linear prediction (pixel MSEs) \n",
    "\n",
    "- set up simple model $Y = W X$ with $W = U V$\n",
    "- low-rank: if $Y \\in \\mathbb{R}^N, X \\in \\mathbb{R}^M$, then $W \\in \\mathbb{R}^{N \\times M}$, but $U \\in \\mathbb{R}^{N \\times k}, V \\in \\mathbb{R}^{k \\times M}$ with $k << M,N$ !\n",
    "- low-rank structure saves us parameters: $M N$ parameters in $W$, but only $N k + k M$ in $U$ and $V$, helps prevent overfitting on low samples size"
   ]
  },
  {
   "cell_type": "code",
   "execution_count": null,
   "metadata": {},
   "outputs": [],
   "source": [
    "anomaly_corrs, params = run_lrlin(source_data, target_data, n_latents, idcs, if_plot=True, map_shape=map_shape,\n",
    "                                 n_epochs=20000, lr=1e-2)"
   ]
  },
  {
   "cell_type": "markdown",
   "metadata": {},
   "source": [
    "# debug"
   ]
  },
  {
   "cell_type": "code",
   "execution_count": null,
   "metadata": {},
   "outputs": [],
   "source": []
  }
 ],
 "metadata": {
  "kernelspec": {
   "display_name": "Python 3",
   "language": "python",
   "name": "python3"
  },
  "language_info": {
   "codemirror_mode": {
    "name": "ipython",
    "version": 3
   },
   "file_extension": ".py",
   "mimetype": "text/x-python",
   "name": "python",
   "nbconvert_exporter": "python",
   "pygments_lexer": "ipython3",
   "version": "3.7.4"
  }
 },
 "nbformat": 4,
 "nbformat_minor": 2
}
