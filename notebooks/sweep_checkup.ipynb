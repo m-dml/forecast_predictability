{
 "cells": [
  {
   "cell_type": "markdown",
   "metadata": {},
   "source": [
    "# check results of cluster sweep\n",
    "- running CCA- and low-rank linear method for different $n$ and different input data fields\n",
    "- comparing fields of anomaly correlation coefficients on test data"
   ]
  },
  {
   "cell_type": "code",
   "execution_count": null,
   "metadata": {
    "scrolled": false
   },
   "outputs": [],
   "source": [
    "%matplotlib inline\n",
    "from netCDF4 import Dataset\n",
    "\n",
    "import numpy as np\n",
    "import matplotlib.pyplot as plt\n",
    "import seaborn\n",
    "\n",
    "from predictability_utils.utils import helpers, io, viz\n",
    "\n",
    "root_data = '../../data/pyrina'\n",
    "root_results = '../../results/pyrina'\n",
    "\n",
    "data_path= \"$HOME/projects/seasonal_forecasting/results/pyrina\"\n",
    "fields = [\"swvl1\", \"msl\", \"t2m\"]\n",
    "regions = [\"EU\", \"NA-EU\", \"EU\"]\n",
    "preprocesses = [\"anomalies\", \"anomalies\", \"anomalies\"]\n",
    "lrs = [1e-2, 1e-9, 5e-5]\n",
    "n_min,n_max = 1, 5\n",
    "\n",
    "train_months = [2,3,4]\n",
    "test_months = [5,6,7]\n",
    "m_train = ''.join([str(i) for i in train_months]) # strings for save-file\n",
    "m_test = ''.join([str(i) for i in test_months])   # identification\n",
    "y_train = 51\n",
    "\n",
    "node_off = 0\n",
    "cmax, cmin = 0.6, -0.6\n",
    "for field, region, preprocess, lr in zip(fields, regions, preprocesses, lrs):\n",
    "\n",
    "    fig = plt.figure(figsize=(16,5))\n",
    "    \n",
    "    for n_latents in range(n_min,n_max+1):\n",
    "\n",
    "        sv_fn = f'/{field}_ERA20c_monthly_1900-2010_{region}_{preprocess}__s{m_train}_t{m_test}_split{y_train}__n{n_latents}_'\n",
    "\n",
    "        for i, method in enumerate(['CCA', 'LRL']):\n",
    "            plt.subplot(2,5, n_latents + i*5)\n",
    "            anomaly_corrs_map = np.load(root_results + sv_fn + method + '.npy').reshape(37,42)\n",
    "            #cmax = np.max(np.abs(anomaly_corrs_map))\n",
    "            plt.imshow(anomaly_corrs_map, cmap='seismic', vmin=cmin, vmax=cmax)\n",
    "            plt.colorbar(ticks=[0.5, 0, -0.5])\n",
    "            plt.title(f'avg: {anomaly_corrs_map.mean():.3f}')\n",
    "            #plt.ylabel('n =' +str(n_latents))\n",
    "            plt.xticks([])\n",
    "            plt.yticks([])\n",
    "        plt.xlabel('n =' +str(n_latents))\n",
    "    plt.subplot(2,5,1)\n",
    "    plt.ylabel('CCA')\n",
    "    plt.subplot(2,5,6)\n",
    "    plt.ylabel('LR-linear')\n",
    "    plt.suptitle(f\"T2ms (summer) predicted from {field}.{region}.{preprocess} (spring)\")\n",
    "    plt.show()\n",
    "        \n",
    "        "
   ]
  },
  {
   "cell_type": "markdown",
   "metadata": {},
   "source": [
    "# debug"
   ]
  },
  {
   "cell_type": "code",
   "execution_count": null,
   "metadata": {},
   "outputs": [],
   "source": []
  }
 ],
 "metadata": {
  "kernelspec": {
   "display_name": "Python 3",
   "language": "python",
   "name": "python3"
  },
  "language_info": {
   "codemirror_mode": {
    "name": "ipython",
    "version": 3
   },
   "file_extension": ".py",
   "mimetype": "text/x-python",
   "name": "python",
   "nbconvert_exporter": "python",
   "pygments_lexer": "ipython3",
   "version": "3.7.4"
  }
 },
 "nbformat": 4,
 "nbformat_minor": 2
}
